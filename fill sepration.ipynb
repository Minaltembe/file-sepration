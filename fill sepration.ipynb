{
 "cells": [
  {
   "cell_type": "code",
   "execution_count": 10,
   "id": "1e6755d8",
   "metadata": {},
   "outputs": [
    {
     "name": "stdout",
     "output_type": "stream",
     "text": [
      "enter your path: C:\\Users\\minal\\internship\\9.fill sepration\\New folder - Copy\n"
     ]
    }
   ],
   "source": [
    "import os\n",
    "import shutil\n",
    "\n",
    "path=input(\"enter your path: \")\n",
    "\n",
    "\n",
    "files = os.listdir(path)\n",
    "\n",
    "for i in files:\n",
    "    filename, extension = os.path.splitext(i)\n",
    "    extension_1= extension [1:]\n",
    "    folder_path= path+\"\\\\\"+extension_1\n",
    "\n",
    "    if os.path.exists(folder_path):\n",
    "        shutil.move(path +\"\\\\\"+i, path+\"\\\\\" +extension_1 + \"\\\\\" +i)\n",
    "\n",
    "    else:\n",
    "        os.makedirs(folder_path)\n",
    "        shutil.move(path + \"\\\\\"+i, path+\"\\\\\"+extension_1 + \"\\\\\" + i)\n",
    "      \n",
    "    "
   ]
  },
  {
   "cell_type": "code",
   "execution_count": null,
   "id": "7e13e93f",
   "metadata": {},
   "outputs": [],
   "source": []
  }
 ],
 "metadata": {
  "kernelspec": {
   "display_name": "Python 3 (ipykernel)",
   "language": "python",
   "name": "python3"
  },
  "language_info": {
   "codemirror_mode": {
    "name": "ipython",
    "version": 3
   },
   "file_extension": ".py",
   "mimetype": "text/x-python",
   "name": "python",
   "nbconvert_exporter": "python",
   "pygments_lexer": "ipython3",
   "version": "3.11.5"
  }
 },
 "nbformat": 4,
 "nbformat_minor": 5
}
